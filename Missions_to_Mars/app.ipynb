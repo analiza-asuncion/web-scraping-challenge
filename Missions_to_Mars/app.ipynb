{
 "cells": [
  {
   "cell_type": "code",
   "execution_count": null,
   "metadata": {},
   "outputs": [],
   "source": [
    "from flask import Flask, render_template,redirect\n",
    "from flask_pymongo import PyMongo\n",
    "import scrape_mars"
   ]
  },
  {
   "cell_type": "code",
   "execution_count": null,
   "metadata": {},
   "outputs": [],
   "source": [
    "import sys"
   ]
  },
  {
   "cell_type": "code",
   "execution_count": null,
   "metadata": {},
   "outputs": [],
   "source": [
    "# setup mongo connection\n",
    "app.config[\"MONGO_URI\"] = \"mongodb://localhost:27017/Mission_to_Mars_DB\"\n",
    "mongo = PyMongo(app)"
   ]
  },
  {
   "cell_type": "code",
   "execution_count": null,
   "metadata": {},
   "outputs": [],
   "source": [
    "@app.route(\"/\")\n",
    "def index():\n",
    "    print(\"I am on index.html\")\n",
    "    # write a statement that finds all the items in the db and sets it to a variable\n",
    "    mars_data=mongo.db.mars_db.find_one()\n",
    "    # render an index.html template and pass it the data you retrieved from the database\n",
    "    return render_template(\"index.html\", data=mars_data)"
   ]
  },
  {
   "cell_type": "code",
   "execution_count": null,
   "metadata": {},
   "outputs": [],
   "source": [
    "@app.route(\"/scrape\")\n",
    "def scrape():     \n",
    "    print(\"I am in scrape\")\n",
    "    mars_info=scrape_mars.mars_news_scrape()\n",
    "    mars_info=scrape_mars.img_scrape()\n",
    "    mars_info=scrape_mars.mars_weather()\n",
    "    mars_info=scrape_mars.mars_facts()\n",
    "    mars_info=scrape_mars.mars_hem()\n",
    "    mongo.db.mars_db.update({},mars_info,upsert=True)\n",
    "    return redirect(\"/\")\n"
   ]
  },
  {
   "cell_type": "code",
   "execution_count": null,
   "metadata": {},
   "outputs": [],
   "source": [
    "if __name__ == \"__main__\":\n",
    "    app.run(debug=False)"
   ]
  },
  {
   "cell_type": "code",
   "execution_count": null,
   "metadata": {},
   "outputs": [],
   "source": []
  }
 ],
 "metadata": {
  "kernelspec": {
   "display_name": "Python 3",
   "language": "python",
   "name": "python3"
  },
  "language_info": {
   "codemirror_mode": {
    "name": "ipython",
    "version": 3
   },
   "file_extension": ".py",
   "mimetype": "text/x-python",
   "name": "python",
   "nbconvert_exporter": "python",
   "pygments_lexer": "ipython3",
   "version": "3.7.6"
  }
 },
 "nbformat": 4,
 "nbformat_minor": 4
}
